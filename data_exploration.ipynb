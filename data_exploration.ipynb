{
 "cells": [
  {
   "cell_type": "code",
   "execution_count": 1,
   "id": "6357cc5f-dd89-48a8-9022-9b747cdd207f",
   "metadata": {},
   "outputs": [],
   "source": [
    "import pandas as pd"
   ]
  },
  {
   "cell_type": "code",
   "execution_count": 2,
   "id": "731dc49f-6e4a-4400-a4c0-886bc4b9e69c",
   "metadata": {},
   "outputs": [
    {
     "data": {
      "text/html": [
       "<div>\n",
       "<style scoped>\n",
       "    .dataframe tbody tr th:only-of-type {\n",
       "        vertical-align: middle;\n",
       "    }\n",
       "\n",
       "    .dataframe tbody tr th {\n",
       "        vertical-align: top;\n",
       "    }\n",
       "\n",
       "    .dataframe thead th {\n",
       "        text-align: right;\n",
       "    }\n",
       "</style>\n",
       "<table border=\"1\" class=\"dataframe\">\n",
       "  <thead>\n",
       "    <tr style=\"text-align: right;\">\n",
       "      <th></th>\n",
       "      <th>id</th>\n",
       "      <th>person_age</th>\n",
       "      <th>person_income</th>\n",
       "      <th>person_home_ownership</th>\n",
       "      <th>person_emp_length</th>\n",
       "      <th>loan_intent</th>\n",
       "      <th>loan_grade</th>\n",
       "      <th>loan_amnt</th>\n",
       "      <th>loan_int_rate</th>\n",
       "      <th>loan_percent_income</th>\n",
       "      <th>cb_person_default_on_file</th>\n",
       "      <th>cb_person_cred_hist_length</th>\n",
       "      <th>loan_status</th>\n",
       "    </tr>\n",
       "  </thead>\n",
       "  <tbody>\n",
       "    <tr>\n",
       "      <th>0</th>\n",
       "      <td>0</td>\n",
       "      <td>37</td>\n",
       "      <td>35000</td>\n",
       "      <td>RENT</td>\n",
       "      <td>0.0</td>\n",
       "      <td>EDUCATION</td>\n",
       "      <td>B</td>\n",
       "      <td>6000</td>\n",
       "      <td>11.49</td>\n",
       "      <td>0.17</td>\n",
       "      <td>N</td>\n",
       "      <td>14</td>\n",
       "      <td>0</td>\n",
       "    </tr>\n",
       "  </tbody>\n",
       "</table>\n",
       "</div>"
      ],
      "text/plain": [
       "   id  person_age  person_income person_home_ownership  person_emp_length  \\\n",
       "0   0          37          35000                  RENT                0.0   \n",
       "\n",
       "  loan_intent loan_grade  loan_amnt  loan_int_rate  loan_percent_income  \\\n",
       "0   EDUCATION          B       6000          11.49                 0.17   \n",
       "\n",
       "  cb_person_default_on_file  cb_person_cred_hist_length  loan_status  \n",
       "0                         N                          14            0  "
      ]
     },
     "metadata": {},
     "output_type": "display_data"
    },
    {
     "name": "stdout",
     "output_type": "stream",
     "text": [
      "(58645, 13)\n"
     ]
    },
    {
     "data": {
      "text/html": [
       "<div>\n",
       "<style scoped>\n",
       "    .dataframe tbody tr th:only-of-type {\n",
       "        vertical-align: middle;\n",
       "    }\n",
       "\n",
       "    .dataframe tbody tr th {\n",
       "        vertical-align: top;\n",
       "    }\n",
       "\n",
       "    .dataframe thead th {\n",
       "        text-align: right;\n",
       "    }\n",
       "</style>\n",
       "<table border=\"1\" class=\"dataframe\">\n",
       "  <thead>\n",
       "    <tr style=\"text-align: right;\">\n",
       "      <th></th>\n",
       "      <th>id</th>\n",
       "      <th>person_age</th>\n",
       "      <th>person_income</th>\n",
       "      <th>person_home_ownership</th>\n",
       "      <th>person_emp_length</th>\n",
       "      <th>loan_intent</th>\n",
       "      <th>loan_grade</th>\n",
       "      <th>loan_amnt</th>\n",
       "      <th>loan_int_rate</th>\n",
       "      <th>loan_percent_income</th>\n",
       "      <th>cb_person_default_on_file</th>\n",
       "      <th>cb_person_cred_hist_length</th>\n",
       "    </tr>\n",
       "  </thead>\n",
       "  <tbody>\n",
       "    <tr>\n",
       "      <th>0</th>\n",
       "      <td>58645</td>\n",
       "      <td>23</td>\n",
       "      <td>69000</td>\n",
       "      <td>RENT</td>\n",
       "      <td>3.0</td>\n",
       "      <td>HOMEIMPROVEMENT</td>\n",
       "      <td>F</td>\n",
       "      <td>25000</td>\n",
       "      <td>15.76</td>\n",
       "      <td>0.36</td>\n",
       "      <td>N</td>\n",
       "      <td>2</td>\n",
       "    </tr>\n",
       "  </tbody>\n",
       "</table>\n",
       "</div>"
      ],
      "text/plain": [
       "      id  person_age  person_income person_home_ownership  person_emp_length  \\\n",
       "0  58645          23          69000                  RENT                3.0   \n",
       "\n",
       "       loan_intent loan_grade  loan_amnt  loan_int_rate  loan_percent_income  \\\n",
       "0  HOMEIMPROVEMENT          F      25000          15.76                 0.36   \n",
       "\n",
       "  cb_person_default_on_file  cb_person_cred_hist_length  \n",
       "0                         N                           2  "
      ]
     },
     "metadata": {},
     "output_type": "display_data"
    },
    {
     "name": "stdout",
     "output_type": "stream",
     "text": [
      "(39098, 12)\n"
     ]
    }
   ],
   "source": [
    "DATA_DIR = '/Users/asvs/kartheek_hobby_projects/loan_approval_prediction/data'\n",
    "df_train = pd.read_csv(f'{DATA_DIR}/train.csv')\n",
    "df_test  = pd.read_csv(f'{DATA_DIR}/test.csv')\n",
    "df_sub = pd.read_csv(f'{DATA_DIR}/sample_submission.csv')\n",
    "\n",
    "display(df_train.head(1))\n",
    "print(df_train.shape)\n",
    "display(df_test.head(1))\n",
    "print(df_test.shape)\n"
   ]
  },
  {
   "cell_type": "code",
   "execution_count": 3,
   "id": "a8a71a95",
   "metadata": {},
   "outputs": [
    {
     "data": {
      "text/plain": [
       "Index(['id', 'person_age', 'person_income', 'person_home_ownership',\n",
       "       'person_emp_length', 'loan_intent', 'loan_grade', 'loan_amnt',\n",
       "       'loan_int_rate', 'loan_percent_income', 'cb_person_default_on_file',\n",
       "       'cb_person_cred_hist_length', 'loan_status'],\n",
       "      dtype='object')"
      ]
     },
     "execution_count": 3,
     "metadata": {},
     "output_type": "execute_result"
    }
   ],
   "source": [
    "df_train.columns"
   ]
  },
  {
   "cell_type": "code",
   "execution_count": 4,
   "id": "132f4258",
   "metadata": {},
   "outputs": [],
   "source": [
    "CATEGORICAL_COLS = ['person_home_ownership', 'loan_intent', 'loan_grade', 'cb_person_default_on_file']\n",
    "NUMERICAL_COLS = ['person_age', 'person_income', 'person_emp_length', 'loan_amnt', 'loan_int_rate', 'loan_percent_income', 'cb_person_cred_hist_length']\n",
    "TARGET_COL = 'loan_status'"
   ]
  },
  {
   "cell_type": "code",
   "execution_count": 6,
   "id": "b6b78da2",
   "metadata": {},
   "outputs": [
    {
     "data": {
      "image/png": "[encoded data removed]",
      "text/plain": [
       "<Figure size 1000x600 with 1 Axes>"
      ]
     },
     "metadata": {},
     "output_type": "display_data"
    }
   ],
   "source": [
    "import matplotlib.pyplot as plt\n",
    "\n",
    "# Count the number of 0s and 1s in the target column\n",
    "target_counts = df_train[TARGET_COL].value_counts().sort_index()\n",
    "\n",
    "# Create a bar plot with different colors for each bar\n",
    "plt.figure(figsize=(10, 6))\n",
    "colors = ['#1f77b4', '#ff7f0e']  # Blue for Approved, Orange for Not Approved\n",
    "target_counts.plot(kind='bar', color=colors)\n",
    "plt.title('Distribution of Target Variable (loan_status)')\n",
    "plt.xlabel('Loan Status')\n",
    "plt.ylabel('Count')\n",
    "plt.xticks([0, 1], ['0 (Approved)', '1 (Not Approved)'], rotation=0)\n",
    "\n",
    "# Add value labels on top of each bar\n",
    "for i, v in enumerate(target_counts):\n",
    "    plt.text(i, v, str(v), ha='center', va='bottom')\n",
    "\n",
    "plt.tight_layout()\n",
    "plt.show()\n"
   ]
  },
  {
   "cell_type": "markdown",
   "id": "b8434b8c",
   "metadata": {},
   "source": [
    "## How much is the class imbalance effecting the model performance?\n"
   ]
  },
  {
   "cell_type": "code",
   "execution_count": 8,
   "id": "7dc7995f",
   "metadata": {},
   "outputs": [],
   "source": [
    "from autogluon.tabular import TabularPredictor\n",
    "MODEL_PATH = \"AutogluonModels/ag-20241002_005121\"\n",
    "predictor = TabularPredictor.load(MODEL_PATH)\n",
    "\n",
    "CATEGORICAL_COLS = ['person_home_ownership', 'loan_intent', 'loan_grade', 'cb_person_default_on_file']\n",
    "NUMERICAL_COLS = ['person_age', 'person_income', 'person_emp_length', 'loan_amnt', 'loan_int_rate', 'loan_percent_income', 'cb_person_cred_hist_length']\n",
    "TARGET_COL = 'loan_status'\n",
    "\n",
    "def data_preprocessing(df, test=False):\n",
    "    \"\"\"\n",
    "    Preprocess the input DataFrame for AutoGluon training or prediction.\n",
    "\n",
    "    Args:\n",
    "        df (pandas.DataFrame): The input DataFrame to preprocess.\n",
    "        test (bool): Flag indicating whether this is test data (default: False).\n",
    "\n",
    "    Returns:\n",
    "        pandas.DataFrame: The preprocessed DataFrame.\n",
    "\n",
    "    This function performs the following preprocessing steps:\n",
    "    1. Creates a copy of the input DataFrame to avoid modifying the original.\n",
    "    2. Drops the 'id' column as it's not required for training or prediction.\n",
    "    3. Converts categorical columns to 'category' dtype for AutoGluon compatibility.\n",
    "    4. For training data (test=False), converts the target column to integer type.\n",
    "    \"\"\"\n",
    "    df = df.copy()\n",
    "    df = df.drop(columns=['id']) # dropping id column as it is not required for training\n",
    "    df[CATEGORICAL_COLS] = df[CATEGORICAL_COLS].astype('category') # type casting categorical columns to category, necessary for AutoGluon\n",
    "    if not test:\n",
    "        df[TARGET_COL] = df[TARGET_COL].astype('int') # type casting target column to int.\n",
    "\n",
    "    return df\n",
    "\n",
    "mod_df_train = data_preprocessing(df_train)\n",
    "mod_df_test = data_preprocessing(df_test, test=True)\n",
    "\n",
    "y_pred_proba = predictor.predict_proba(mod_df_train)[1]\n",
    "mod_df_train['predicted_proba'] = y_pred_proba\n",
    "mod_df_train.to_csv('predictions/trainpreds_autogluon_2024-10-02_06-22-24.csv', index=False)"
   ]
  },
  {
   "cell_type": "code",
   "execution_count": 12,
   "id": "ab5fe9a3",
   "metadata": {},
   "outputs": [
    {
     "name": "stdout",
     "output_type": "stream",
     "text": [
      "Classification Report:\n",
      "                precision    recall  f1-score   support\n",
      "\n",
      "Approved Loans       0.96      0.99      0.98     50295\n",
      "Rejected Loans       0.95      0.77      0.85      8350\n",
      "\n",
      "      accuracy                           0.96     58645\n",
      "     macro avg       0.96      0.88      0.92     58645\n",
      "  weighted avg       0.96      0.96      0.96     58645\n",
      "\n",
      "\n",
      "Conclusion:\n",
      "The model is performing better on Class 0 (Approved Loans).\n"
     ]
    }
   ],
   "source": [
    "# Calculate performance metrics for each class\n",
    "from sklearn.metrics import classification_report\n",
    "import numpy as np\n",
    "\n",
    "# Separate the data into two classes\n",
    "class_0 = mod_df_train[mod_df_train[TARGET_COL] == 0]\n",
    "class_1 = mod_df_train[mod_df_train[TARGET_COL] == 1]\n",
    "\n",
    "# Combine predictions and true labels\n",
    "y_true = mod_df_train[TARGET_COL]\n",
    "y_pred = (mod_df_train['predicted_proba'] > 0.5).astype(int)\n",
    "\n",
    "# Generate and print the classification report\n",
    "print(\"Classification Report:\")\n",
    "print(classification_report(y_true, y_pred, target_names=['Approved Loans', 'Rejected Loans']))\n",
    "\n",
    "# Overall conclusion\n",
    "print(\"\\nConclusion:\")\n",
    "report = classification_report(y_true, y_pred, output_dict=True)\n",
    "if report['0']['f1-score'] > report['1']['f1-score']:\n",
    "    print(\"The model is performing better on Class 0 (Approved Loans).\")\n",
    "elif report['0']['f1-score'] < report['1']['f1-score']:\n",
    "    print(\"The model is performing better on Class 1 (Rejected Loans).\")\n",
    "else:\n",
    "    print(\"The model performance is similar for both classes.\")\n"
   ]
  },
  {
   "cell_type": "code",
   "execution_count": null,
   "id": "b70116dc",
   "metadata": {},
   "outputs": [],
   "source": []
  }
 ],
 "metadata": {
  "kernelspec": {
   "display_name": "Python 3 (ipykernel)",
   "language": "python",
   "name": "python3"
  },
  "language_info": {
   "codemirror_mode": {
    "name": "ipython",
    "version": 3
   },
   "file_extension": ".py",
   "mimetype": "text/x-python",
   "name": "python",
   "nbconvert_exporter": "python",
   "pygments_lexer": "ipython3",
   "version": "3.10.13"
  }
 },
 "nbformat": 4,
 "nbformat_minor": 5
}
